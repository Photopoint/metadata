{
  "nbformat": 4,
  "nbformat_minor": 0,
  "metadata": {
    "colab": {
      "provenance": [],
      "authorship_tag": "ABX9TyN1sUce3MvEmBZI9CONT3bF",
      "include_colab_link": true
    },
    "kernelspec": {
      "name": "python3",
      "display_name": "Python 3"
    },
    "language_info": {
      "name": "python"
    }
  },
  "cells": [
    {
      "cell_type": "markdown",
      "metadata": {
        "id": "view-in-github",
        "colab_type": "text"
      },
      "source": [
        "<a href=\"https://colab.research.google.com/github/Photopoint/metadata/blob/main/Photopoint_Metadata.ipynb\" target=\"_parent\"><img src=\"https://colab.research.google.com/assets/colab-badge.svg\" alt=\"Open In Colab\"/></a>"
      ]
    },
    {
      "cell_type": "markdown",
      "source": [
        "# 1. Things you need to configure\n",
        "This script assumes that each photographer will have a main folder on the Google Drive into which they create subfolders and upload their JPEG photos.\n",
        "The main folder path will be in the root folder (\"My Drive\") and called \"Incoming\". Each photographer has one line in the code below in the format:\n",
        "\n",
        "> `\"foldername\": \"Photographer Name\",`\n",
        "\n",
        "Getting the punctuation correct is vital. The \"Photographer Name\" part should be their name as they want it to appear on the watermark.\n",
        "\n",
        "Photographers will need to have write access to \"`My Drive/Incoming/foldername`\" which for the example of Morgan Churchill would be the folder\n",
        "\n",
        "\n",
        "> `https://drive.google.com/drive/u/0/my-drive/Incoming/Morgan`\n",
        "\n",
        "Images will be resized for social media. 1200 pixels (as of Feb 2023) is a good size for Facebook and Instagram limits. If that needs to be different, change the line that defines the `soc_med_size` variable."
      ],
      "metadata": {
        "id": "NFwHJ2x0tXU3"
      }
    },
    {
      "cell_type": "code",
      "execution_count": null,
      "metadata": {
        "id": "2I6s0Qvspn6Q"
      },
      "outputs": [],
      "source": [
        "incoming_folder = \"/my-drive/Incoming/\"\n",
        "processed_folder = \"/my-drive/Processed/\"\n",
        "\n",
        "# the size, in pixels, of the longest edge for social media images\n",
        "soc_med_size = 1200\n",
        "\n",
        "# details \n",
        "photographers = {\n",
        "    \"Morgan\": \"Morgan Churchill\",\n",
        "    \"Quinn\":  \"Q Madhani\",\n",
        "}"
      ]
    },
    {
      "cell_type": "code",
      "source": [
        "import piexif\n",
        "import PIL\n",
        "from PIL import Image, ImageDraw, ImageFont\n",
        "import io\n",
        "from googleapiclient.discovery import build\n",
        "\n",
        "def add_watermark(image, font, photographer):\n",
        "    # Get image width and height\n",
        "    width, height = image.size\n",
        "\n",
        "    # Create an ImageDraw object\n",
        "    draw = ImageDraw.Draw(image)\n",
        "\n",
        "    # Load the font\n",
        "    font = ImageFont.truetype(font, 30)\n",
        "\n",
        "    # Calculate the size of the text\n",
        "    text_width, text_height = draw.textsize(photographer, font)\n",
        "\n",
        "    # Calculate the position of the text\n",
        "    x = width - text_width - 10\n",
        "    y = height - text_height - 10\n",
        "\n",
        "    # Add the text to the image\n",
        "    draw.text((x, y), photographer, font=font, fill=(255, 255, 255, 128))\n",
        "\n",
        "    return image\n",
        "\n",
        "def save_image_to_drive(image, file_id, content_type):\n",
        "    # Save the image with the watermark to a memory buffer\n",
        "    buffer = io.BytesIO()\n",
        "    image.save(buffer, format=\"JPEG\")\n",
        "\n",
        "    # Get the Google Drive API client\n",
        "    drive_service = build(\"drive\", \"v3\")\n",
        "\n",
        "    # Update the existing file with the new image data\n",
        "    file = drive_service.files().update(fileId=file_id, media_body=buffer.getvalue(),\n",
        "                                         mimetype=content_type).execute()\n",
        "\n",
        "def resize_image(image):\n",
        "    # Calculate the aspect ratio\n",
        "    aspect_ratio = image.width / image.height\n",
        "\n",
        "    # Resize the image to be soc_med_size pixels on the long edge\n",
        "    if aspect_ratio > 1:\n",
        "        new_width = soc_med_size\n",
        "        new_height = int(new_width / aspect_ratio)\n",
        "    else:\n",
        "        new_height = soc_med_size\n",
        "        new_width = int(new_height * aspect_ratio)\n",
        "\n",
        "    return image.resize((new_width, new_height), resample=PIL.Image.LANCZOS)\n",
        "\n",
        "# Main function\n",
        "if __name__ == \"__main__\":\n",
        "    # Path to the font\n",
        "    font_path = \"arial.ttf\"\n",
        "\n",
        "    # ID of the Google Drive folder\n",
        "    folder_id = \"your-folder-id\"\n",
        "\n",
        "    # Get the Google Drive API client\n",
        "    drive_service = build(\"drive\", \"v3\")\n",
        "\n",
        "    # Query for all JPEG files in the folder\n",
        "    query = \"mimeType='image/jpeg' and trashed = false and parents in '\" + folder_id + \"'\"\n",
        "    results = drive_service.files().list(q=query, fields=\"nextPageToken, files(id, name)\").execute()\n",
        "\n",
        "    # Process each file\n",
        "    for file in results.get(\"files\", []):\n",
        "        # Download the image data from Google Drive\n",
        "        image_data = drive_service.files().get_media(fileId=file[\"id\"]).execute()\n",
        "        image = Image.open(io.BytesIO(image_data))\n",
        "\n",
        "        # Get the photographer's name from the EXIF data\n",
        "        exif_dict = piexif.load(image.info[\"exif\"])\n",
        "        if piexif.ExifIFD.Artist in exif_dict[\"0th\"]:\n",
        "            photographer = exif_dict[\"0th\"][piexif.ExifIFD.Artist].decode()\n",
        "        else:\n",
        "            photographer = \"Unknown\"\n",
        "\n",
        "        # Add the watermark to the image\n",
        "        watermarked_image = add_watermark(image, font_path, photographer)\n",
        "\n",
        "        # Get the subfolder \"Archive\" if it exists, otherwise create one\n",
        "        archive_folder = get_or_create_subfolder(file[\"parents\"][0], \"Archive\")\n",
        "\n",
        "        # Save the original image to the \"Archive\" folder\n",
        "        save_image_to_drive(watermarked_image, archive_folder[\"id\"], \"image/jpeg\")\n",
        "\n",
        "        # Resize the image\n",
        "        resized_image = resize_image(watermarked_image)\n",
        "\n",
        "        # Get the subfolder \"SocMed\" if it exists, otherwise create one\n",
        "        socmed_folder = get_or_create_subfolder(file[\"parents\"][0], \"SocMed\")\n",
        "\n",
        "        # Save the resized image to the \"SocMed\" folder\n",
        "        save_image_to_drive(resized_image, socmed_folder[\"id\"], \"image/jpeg\")"
      ],
      "metadata": {
        "id": "02klbGBEycza"
      },
      "execution_count": null,
      "outputs": []
    }
  ]
}
{
  "nbformat": 4,
  "nbformat_minor": 0,
  "metadata": {
    "colab": {
      "provenance": [],
      "authorship_tag": "ABX9TyNBMNkcLkdPJARYzmNQBMqm",
      "include_colab_link": true
    },
    "kernelspec": {
      "name": "python3",
      "display_name": "Python 3"
    },
    "language_info": {
      "name": "python"
    }
  },
  "cells": [
    {
      "cell_type": "markdown",
      "metadata": {
        "id": "view-in-github",
        "colab_type": "text"
      },
      "source": [
        "<a href=\"https://colab.research.google.com/github/Photopoint/metadata/blob/main/Photopoint_Metadata.ipynb\" target=\"_parent\"><img src=\"https://colab.research.google.com/assets/colab-badge.svg\" alt=\"Open In Colab\"/></a>"
      ]
    },
    {
      "cell_type": "markdown",
      "source": [
        "# 1. Things you need to configure\n",
        "This script assumes that each photographer will have a main folder on the Google Drive into which they create subfolders and upload their JPEG photos.\n",
        "The main folder path will be in the root folder (\"My Drive\") and called \"Incoming\". Each photographer has one line in the code below in the format:\n",
        "\n",
        "> `\"foldername\": \"Photographer Name\",`\n",
        "\n",
        "Getting the punctuation correct is vital. The \"Photographer Name\" part should be their name as they want it to appear on the watermark.\n",
        "\n",
        "Photographers will need to have write access to \"`My Drive/Incoming/foldername`\" which for the example of Morgan Churchill would be the folder\n",
        "\n",
        "\n",
        "> `https://drive.google.com/drive/u/0/my-drive/Incoming/Morgan`\n",
        "\n",
        "Images will be resized for social media. 1200 pixels (as of Feb 2023) is a good size for Facebook and Instagram limits. If that needs to be different, change the line that defines the `soc_med_size` variable."
      ],
      "metadata": {
        "id": "NFwHJ2x0tXU3"
      }
    },
    {
      "cell_type": "code",
      "execution_count": null,
      "metadata": {
        "id": "2I6s0Qvspn6Q"
      },
      "outputs": [],
      "source": [
        "incoming_folder = \"/my-drive/Incoming/\"\n",
        "processed_folder = \"/my-drive/Processed/\"\n",
        "\n",
        "# the size, in pixels, of the longest edge for social media images\n",
        "soc_med_size = 1200\n",
        "\n",
        "# details \n",
        "photographers = {\n",
        "    \"Morgan\": \"Morgan Churchill\",\n",
        "    \"Quinn\":  \"Q Madhani\",\n",
        "}"
      ]
    }
  ]
}